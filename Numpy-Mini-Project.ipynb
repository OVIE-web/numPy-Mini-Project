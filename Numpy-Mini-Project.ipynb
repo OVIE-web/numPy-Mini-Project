{
 "cells": [
  {
   "cell_type": "markdown",
   "id": "ce19a400-4461-469d-93aa-02aa6fb23265",
   "metadata": {},
   "source": [
    "# NumPy!\n",
    "NumPy also known as Numerical Python, is a fundamental library for numerical computations in Python.\n",
    "\n",
    "This project typically covers essential NumPy concepts, such as arrays, indexing, slicing, Broadcasting, and mathematical operations.\n",
    "\n",
    "Data Science/ Machine Learning.\n",
    "\n",
    "Scientific Computing."
   ]
  },
  {
   "cell_type": "code",
   "execution_count": 323,
   "id": "e2dfe60b-dfde-496a-a795-962700d3829d",
   "metadata": {},
   "outputs": [],
   "source": [
    "# Import Numpy to begin with the Project\n",
    "# pip install numpy \n",
    "import numpy as pd"
   ]
  },
  {
   "cell_type": "markdown",
   "id": "49d6dbb8-e5b1-4b74-9758-3fb1b9689bab",
   "metadata": {},
   "source": [
    "# numPy Basics!"
   ]
  },
  {
   "cell_type": "code",
   "execution_count": 325,
   "id": "4f5d7bca-8fdb-42b3-9a53-a16347236a55",
   "metadata": {},
   "outputs": [
    {
     "name": "stdout",
     "output_type": "stream",
     "text": [
      "Array = [1 2 3]\n",
      "Number of dimensions = 1\n",
      "Shape = (3,)\n",
      "Data type = int32\n",
      "Item size in bytes = 4\n"
     ]
    }
   ],
   "source": [
    "# Create an array and get basic information\n",
    "a = np.array([1, 2, 3])\n",
    "print(f\"Array = {a}\")\n",
    "print(f\"Number of dimensions = {a.ndim}\")\n",
    "print(f\"Shape = {a.shape}\")\n",
    "print(f\"Data type = {a.dtype}\")\n",
    "print(f\"Item size in bytes = {a.itemsize}\")"
   ]
  },
  {
   "cell_type": "code",
   "execution_count": 326,
   "id": "456454db-15d5-4fbd-b993-678824c1d347",
   "metadata": {},
   "outputs": [
    {
     "name": "stdout",
     "output_type": "stream",
     "text": [
      "[[1.  2.  3. ]\n",
      " [3.2 4.  5. ]\n",
      " [1.  3.  5.2]]\n",
      " Data type = float64\n"
     ]
    }
   ],
   "source": [
    "# Create a new array with different data types\n",
    "a = np.array([[1, 2, 3], [3.2, 4, 5], [1, 3, 5.2]])\n",
    "print(a)\n",
    "print(f\" Data type = {a.dtype}\")"
   ]
  },
  {
   "cell_type": "code",
   "execution_count": 327,
   "id": "4928a3f9-c09a-410b-9284-9090eb6bd492",
   "metadata": {},
   "outputs": [
    {
     "data": {
      "text/plain": [
       "array([[1, 2, 3],\n",
       "       [3, 4, 5],\n",
       "       [1, 3, 5]])"
      ]
     },
     "execution_count": 327,
     "metadata": {},
     "output_type": "execute_result"
    }
   ],
   "source": [
    "# Indexing and slicing\n",
    "a = np.array([[1, 2, 3,], [3, 4, 5], [1, 3, 5]])\n",
    "a"
   ]
  },
  {
   "cell_type": "code",
   "execution_count": 328,
   "id": "7faebf10-8a16-4d19-845d-92f7e9e7dd71",
   "metadata": {},
   "outputs": [
    {
     "name": "stdout",
     "output_type": "stream",
     "text": [
      "3\n",
      "5\n"
     ]
    }
   ],
   "source": [
    "# Get number at a specific row and column\n",
    "print(a[0,2])\n",
    "print(a[1,2])"
   ]
  },
  {
   "cell_type": "code",
   "execution_count": 329,
   "id": "07cc23fe-c196-4a54-9351-6840af498ec1",
   "metadata": {},
   "outputs": [
    {
     "name": "stdout",
     "output_type": "stream",
     "text": [
      "Numbers from 1st row = [1 2 3]\n",
      "Number from 2nd column = [2 4 3]\n"
     ]
    }
   ],
   "source": [
    "# Get numbers from one row and one column\n",
    "print(f\"Numbers from 1st row = {a[0,:]}\")\n",
    "print(f\"Number from 2nd column = {a[:, 1]}\")"
   ]
  },
  {
   "cell_type": "code",
   "execution_count": 330,
   "id": "05635d61-488a-4e6e-8979-4b0159c85d10",
   "metadata": {},
   "outputs": [
    {
     "data": {
      "text/plain": [
       "array([[4, 5],\n",
       "       [3, 5]])"
      ]
     },
     "execution_count": 330,
     "metadata": {},
     "output_type": "execute_result"
    }
   ],
   "source": [
    "# Get a sub matrix\n",
    "b = a[1:3,1:3]\n",
    "b"
   ]
  },
  {
   "cell_type": "code",
   "execution_count": 331,
   "id": "61b0c11f-50ac-486e-9536-f3b209e13095",
   "metadata": {},
   "outputs": [
    {
     "data": {
      "text/plain": [
       "array([[1, 3],\n",
       "       [3, 5],\n",
       "       [1, 5]])"
      ]
     },
     "execution_count": 331,
     "metadata": {},
     "output_type": "execute_result"
    }
   ],
   "source": [
    "# Get random rows or columns\n",
    "b = a[:,[0,2]]\n",
    "b"
   ]
  },
  {
   "cell_type": "code",
   "execution_count": 332,
   "id": "87e86871-711c-418e-9b8e-1d5959fe21f5",
   "metadata": {},
   "outputs": [
    {
     "data": {
      "text/plain": [
       "array([ 6,  5,  5,  7, 10, 11])"
      ]
     },
     "execution_count": 332,
     "metadata": {},
     "output_type": "execute_result"
    }
   ],
   "source": [
    "# Boolean masking\n",
    "a = np.array([[4,1,6], [5,2,5], [7,10,11]])\n",
    "b = a[a > 4]\n",
    "b"
   ]
  },
  {
   "cell_type": "code",
   "execution_count": 333,
   "id": "314255b2-89b2-4ae6-8cc5-4884202536b8",
   "metadata": {},
   "outputs": [
    {
     "data": {
      "text/plain": [
       "array([4, 6, 5, 5, 7])"
      ]
     },
     "execution_count": 333,
     "metadata": {},
     "output_type": "execute_result"
    }
   ],
   "source": [
    "# Elements that is greater than 2 and lesser than 10\n",
    "b = a[( a> 2) & (a < 10)]\n",
    "b"
   ]
  },
  {
   "cell_type": "code",
   "execution_count": 334,
   "id": "ab940fe2-7d99-47b9-9295-ca5696985f3f",
   "metadata": {},
   "outputs": [
    {
     "data": {
      "text/plain": [
       "array([[0., 0.],\n",
       "       [0., 0.],\n",
       "       [0., 0.]])"
      ]
     },
     "execution_count": 334,
     "metadata": {},
     "output_type": "execute_result"
    }
   ],
   "source": [
    "# initialize a numPy array\n",
    "zeros = np.zeros([3,2])\n",
    "zeros"
   ]
  },
  {
   "cell_type": "code",
   "execution_count": 335,
   "id": "b46c1239-aa57-45d5-ab42-ce5bbd1efab7",
   "metadata": {},
   "outputs": [
    {
     "data": {
      "text/plain": [
       "array([[1., 1., 1.],\n",
       "       [1., 1., 1.],\n",
       "       [1., 1., 1.]])"
      ]
     },
     "execution_count": 335,
     "metadata": {},
     "output_type": "execute_result"
    }
   ],
   "source": [
    "# numPy.ones initialize\n",
    "ones = np.ones([3,3])\n",
    "ones"
   ]
  },
  {
   "cell_type": "code",
   "execution_count": 336,
   "id": "7ed07893-fcbf-4982-bd1c-25449405b908",
   "metadata": {},
   "outputs": [
    {
     "data": {
      "text/plain": [
       "array([[2, 2, 2, 2],\n",
       "       [2, 2, 2, 2],\n",
       "       [2, 2, 2, 2]])"
      ]
     },
     "execution_count": 336,
     "metadata": {},
     "output_type": "execute_result"
    }
   ],
   "source": [
    "# Create a new array of the specified shape and type filled with a specified value\n",
    "twos = np.full([3,4], 2)\n",
    "twos"
   ]
  },
  {
   "cell_type": "code",
   "execution_count": 337,
   "id": "100d1b87-2b15-45af-b3b2-9d18f63672a5",
   "metadata": {},
   "outputs": [
    {
     "data": {
      "text/plain": [
       "array([[1., 0., 0., 0.],\n",
       "       [0., 1., 0., 0.],\n",
       "       [0., 0., 1., 0.],\n",
       "       [0., 0., 0., 1.]])"
      ]
     },
     "execution_count": 337,
     "metadata": {},
     "output_type": "execute_result"
    }
   ],
   "source": [
    "# matrix in which all the diagonal elements are set to 1 and the other elements to 0.\n",
    "identity = np.identity(4) # 4x4 matrix\n",
    "identity"
   ]
  },
  {
   "cell_type": "code",
   "execution_count": 338,
   "id": "a105624c-99a2-4bd4-8dfd-d61299e5ae62",
   "metadata": {},
   "outputs": [
    {
     "name": "stdout",
     "output_type": "stream",
     "text": [
      "Random 3x2 matrix\n",
      "[[0.44500784 0.03066264]\n",
      " [0.37837702 0.40834197]\n",
      " [0.96905135 0.69172689]]\n",
      "\n",
      "Random 3x2x2 matrix\n",
      "[[[0.90319393 0.3381673 ]\n",
      "  [0.1431649  0.93859349]]\n",
      "\n",
      " [[0.59458028 0.30174589]\n",
      "  [0.28340833 0.12796756]]\n",
      "\n",
      " [[0.47039534 0.97705583]\n",
      "  [0.43041379 0.22241809]]]\n"
     ]
    }
   ],
   "source": [
    "# Create a random matrix with values between 0 and 1\n",
    "random_3x2_matrix = np.random.rand(3,2)\n",
    "print(\"Random 3x2 matrix\")\n",
    "print(random_3x2_matrix)\n",
    "random_3x2x2_matrix = np.random.rand(3,2,2)\n",
    "print(\"\\nRandom 3x2x2 matrix\")\n",
    "print(random_3x2x2_matrix)"
   ]
  },
  {
   "cell_type": "code",
   "execution_count": 339,
   "id": "56190fa9-d2d6-4fdb-ae60-97f3939de111",
   "metadata": {},
   "outputs": [
    {
     "data": {
      "text/plain": [
       "array([ 1.        ,  1.64285714,  2.28571429,  2.92857143,  3.57142857,\n",
       "        4.21428571,  4.85714286,  5.5       ,  6.14285714,  6.78571429,\n",
       "        7.42857143,  8.07142857,  8.71428571,  9.35714286, 10.        ])"
      ]
     },
     "execution_count": 339,
     "metadata": {},
     "output_type": "execute_result"
    }
   ],
   "source": [
    "# Create a an even-space start and stop array\n",
    "a = np.linspace(start=1, stop=10, num=15)\n",
    "a"
   ]
  },
  {
   "cell_type": "code",
   "execution_count": 340,
   "id": "6f3914f5-7353-4faa-9774-3b6879f89ee3",
   "metadata": {},
   "outputs": [
    {
     "data": {
      "text/plain": [
       "array([2, 4, 6, 8])"
      ]
     },
     "execution_count": 340,
     "metadata": {},
     "output_type": "execute_result"
    }
   ],
   "source": [
    "# Create an array with start and stop positions\n",
    "a = np.arange(start=2, stop=10, step=2)\n",
    "a"
   ]
  },
  {
   "cell_type": "markdown",
   "id": "9cc099b0-2600-436d-bae6-94718bf8b4ae",
   "metadata": {},
   "source": [
    "# numPy Re-organize Arrays!"
   ]
  },
  {
   "cell_type": "code",
   "execution_count": 342,
   "id": "9f6c6287-d2ce-401a-a424-17158d8b90d0",
   "metadata": {},
   "outputs": [
    {
     "name": "stdout",
     "output_type": "stream",
     "text": [
      "[[1 2 3]\n",
      " [3 1 2]]\n",
      "Shape = (2, 3)\n"
     ]
    }
   ],
   "source": [
    "# Create number of elements in each dimension.\n",
    "a = np.array([[1,2,3], [3,1,2]])\n",
    "print(a)\n",
    "print(f\"Shape = {a.shape}\") # a.shape"
   ]
  },
  {
   "cell_type": "code",
   "execution_count": 343,
   "id": "1519976d-c702-41a3-99a3-17b6998a57f5",
   "metadata": {},
   "outputs": [
    {
     "data": {
      "text/plain": [
       "array([[1, 2],\n",
       "       [3, 3],\n",
       "       [1, 2]])"
      ]
     },
     "execution_count": 343,
     "metadata": {},
     "output_type": "execute_result"
    }
   ],
   "source": [
    "# Reshape the array\n",
    "b = a.reshape([3,2])\n",
    "b"
   ]
  },
  {
   "cell_type": "code",
   "execution_count": 344,
   "id": "9992ebdc-31e5-43f9-960d-e23704a8c974",
   "metadata": {},
   "outputs": [
    {
     "name": "stdout",
     "output_type": "stream",
     "text": [
      "[[1 2 3]\n",
      " [2 3 4]]\n",
      "[[2 3 4]\n",
      " [5 1 6]]\n"
     ]
    }
   ],
   "source": [
    "# Stack different arrays\n",
    "a = np.array([[1,2,3], [2,3,4]])\n",
    "b = np.array([[2,3,4], [5,1,6]])\n",
    "print(a)\n",
    "print(b)"
   ]
  },
  {
   "cell_type": "code",
   "execution_count": 345,
   "id": "c0602b59-85b9-4615-bcaa-121c2c87e113",
   "metadata": {},
   "outputs": [
    {
     "data": {
      "text/plain": [
       "array([[1, 2, 3],\n",
       "       [2, 3, 4],\n",
       "       [2, 3, 4],\n",
       "       [5, 1, 6]])"
      ]
     },
     "execution_count": 345,
     "metadata": {},
     "output_type": "execute_result"
    }
   ],
   "source": [
    "# Veritical stack\n",
    "vert_stack = np.vstack((a,b))\n",
    "vert_stack"
   ]
  },
  {
   "cell_type": "code",
   "execution_count": 346,
   "id": "9fc93f6f-7b16-4a5a-ae04-82a722f6d38b",
   "metadata": {},
   "outputs": [
    {
     "data": {
      "text/plain": [
       "array([[1, 2, 3, 2, 3, 4],\n",
       "       [2, 3, 4, 5, 1, 6]])"
      ]
     },
     "execution_count": 346,
     "metadata": {},
     "output_type": "execute_result"
    }
   ],
   "source": [
    "#Horizonatal stack\n",
    "horizontal_stack = np.hstack((a,b))\n",
    "horizontal_stack"
   ]
  },
  {
   "cell_type": "markdown",
   "id": "2fea38ea-971d-4a4c-8f94-41bbbe3985fd",
   "metadata": {},
   "source": [
    "# Mathematics!"
   ]
  },
  {
   "cell_type": "code",
   "execution_count": 348,
   "id": "ac1bb19d-0b85-44ad-a7d1-fd9d42d9f29e",
   "metadata": {},
   "outputs": [
    {
     "name": "stdout",
     "output_type": "stream",
     "text": [
      "Min = 1\n",
      "Max = 3\n",
      "Sum = 12\n",
      "Mean = 2.0\n",
      "Variance = 0.6666666666666666\n",
      "Standard Deviation = 0.816496580927726\n"
     ]
    }
   ],
   "source": [
    "# Statistics\n",
    "a = np.array([[1,2,3,], [2,3,1]])\n",
    "print(f\"Min = {np.min(a)}\")\n",
    "print(f\"Max = {np.max(a)}\")\n",
    "print(f\"Sum = {np.sum(a)}\")\n",
    "print(f\"Mean = {np.mean(a)}\")\n",
    "print(f\"Variance = {np.var(a)}\")\n",
    "print(f\"Standard Deviation = {np.std(a)}\")"
   ]
  },
  {
   "cell_type": "code",
   "execution_count": 349,
   "id": "208fafe0-748e-4edd-9857-0008f0070107",
   "metadata": {},
   "outputs": [
    {
     "name": "stdout",
     "output_type": "stream",
     "text": [
      " Add 1 to all elements in a \n",
      "[[2 3 4]\n",
      " [3 4 2]]\n"
     ]
    }
   ],
   "source": [
    "# Broadcasting\n",
    "a = np.array([[1,2,3], [2,3,1]])\n",
    "b = a + 1\n",
    "print(f\" Add 1 to all elements in a \")\n",
    "print(b)"
   ]
  },
  {
   "cell_type": "code",
   "execution_count": 350,
   "id": "dfab1be5-92f0-44b1-a7a1-89365b6b59d7",
   "metadata": {},
   "outputs": [
    {
     "name": "stdout",
     "output_type": "stream",
     "text": [
      " Subtract 2 from all elements in a\n",
      "[[-1  0  1]\n",
      " [ 0  1 -1]]\n"
     ]
    }
   ],
   "source": [
    "# Broadcasting subtract from Elements\n",
    "b = a - 2\n",
    "print(f\" Subtract 2 from all elements in a\")\n",
    "print(b)"
   ]
  },
  {
   "cell_type": "code",
   "execution_count": 351,
   "id": "ae608b4a-8220-4215-9282-0655c5cbcbd0",
   "metadata": {},
   "outputs": [
    {
     "name": "stdout",
     "output_type": "stream",
     "text": [
      " Multiple 4 to all elements in a\n",
      "[[ 4  8 12]\n",
      " [ 8 12  4]]\n"
     ]
    }
   ],
   "source": [
    "# Multiple Elements\n",
    "b = a * 4\n",
    "print(f\" Multiple 4 to all elements in a\")\n",
    "print(b)"
   ]
  },
  {
   "cell_type": "code",
   "execution_count": 352,
   "id": "3d44c394-2446-461e-9da4-13e342df7b2e",
   "metadata": {},
   "outputs": [
    {
     "data": {
      "text/plain": [
       "array([[3, 5, 7],\n",
       "       [4, 6, 5],\n",
       "       [6, 5, 7]])"
      ]
     },
     "execution_count": 352,
     "metadata": {},
     "output_type": "execute_result"
    }
   ],
   "source": [
    "# Broadcasting across multiple arrays\n",
    "a = np.array([[1,2,3], [2,3,1], [4,2,3]]) # 3 x 3\n",
    "b = np.array([[2,3,4]]) # 1 x 3\n",
    "a + b"
   ]
  },
  {
   "cell_type": "markdown",
   "id": "bce69565-9ed6-40d5-affa-a180f26a7ad5",
   "metadata": {},
   "source": [
    "# Linear Algebra!"
   ]
  },
  {
   "cell_type": "code",
   "execution_count": 354,
   "id": "aab87c3b-ebac-4c36-8720-d45724d71d07",
   "metadata": {},
   "outputs": [
    {
     "data": {
      "text/plain": [
       "array([3, 8, 6])"
      ]
     },
     "execution_count": 354,
     "metadata": {},
     "output_type": "execute_result"
    }
   ],
   "source": [
    "# Matrix Multiplication\n",
    "a = np.array([1,2,3]) # Multilply Elements wise\n",
    "b = np.array([3,4,2]) # Multilply Elements wise a * b\n",
    "a * b"
   ]
  },
  {
   "cell_type": "code",
   "execution_count": 355,
   "id": "7740fb2d-adef-49db-92ed-d6e970335d22",
   "metadata": {},
   "outputs": [
    {
     "name": "stdout",
     "output_type": "stream",
     "text": [
      " a.b = 17\n"
     ]
    }
   ],
   "source": [
    "# Dot product\n",
    "print(f\" a.b = {a.dot(b)}\") # Multiply and  then sum up a.b"
   ]
  },
  {
   "cell_type": "code",
   "execution_count": 356,
   "id": "94a37dc7-46aa-4dff-a3ec-575605967e01",
   "metadata": {},
   "outputs": [
    {
     "name": "stdout",
     "output_type": "stream",
     "text": [
      " a x b =\n",
      "[[22  9]\n",
      " [24 19]\n",
      " [22  9]]\n"
     ]
    }
   ],
   "source": [
    "# Cross product\n",
    "a = np.array([[1,2,3], [4,1,2], [1,2,3]]) # 3 x 3 arrays\n",
    "b = np.array([[3,4], [2,1], [5,1]]) # 3 x 2 arrays\n",
    "\n",
    "# Note: the colu,m of a = the row of b\n",
    "print(f\" a x b =\")\n",
    "print(np.matmul(a,b))\n"
   ]
  },
  {
   "cell_type": "code",
   "execution_count": 357,
   "id": "9f0f7c10-870f-4ef1-a063-5ba2f87b240b",
   "metadata": {},
   "outputs": [
    {
     "data": {
      "text/plain": [
       "-2.0000000000000004"
      ]
     },
     "execution_count": 357,
     "metadata": {},
     "output_type": "execute_result"
    }
   ],
   "source": [
    "# Determinant\n",
    "a = np.array([[1,2], [3,4]])\n",
    "determinant = np.linalg.det(a)\n",
    "determinant"
   ]
  },
  {
   "cell_type": "code",
   "execution_count": 358,
   "id": "23034aa6-735b-41dc-91f3-9ecbf4714143",
   "metadata": {},
   "outputs": [
    {
     "name": "stdout",
     "output_type": "stream",
     "text": [
      "b = \n",
      "[[-2.   1. ]\n",
      " [ 1.5 -0.5]]\n",
      "axb=\n",
      "[[1.0000000e+00 0.0000000e+00]\n",
      " [8.8817842e-16 1.0000000e+00]]\n"
     ]
    }
   ],
   "source": [
    "# inverse matrix\n",
    "a = np.array([[1,2], [3,4]])\n",
    "b = np.linalg.inv(a)\n",
    "print(\"b = \")\n",
    "print(b)\n",
    "print(\"axb=\")\n",
    "print(np.matmul(a,b))"
   ]
  },
  {
   "cell_type": "code",
   "execution_count": 359,
   "id": "959aec78-df5b-496c-b6e2-eb76633e6a06",
   "metadata": {},
   "outputs": [
    {
     "data": {
      "text/plain": [
       "array([[0, 1, 2],\n",
       "       [3, 4, 5],\n",
       "       [6, 7, 8]])"
      ]
     },
     "execution_count": 359,
     "metadata": {},
     "output_type": "execute_result"
    }
   ],
   "source": [
    "# Diagonal matrix\n",
    "x = np.arange(9).reshape((3,3))\n",
    "x"
   ]
  },
  {
   "cell_type": "code",
   "execution_count": 360,
   "id": "f676dc47-4c25-40d2-b33c-547f742e983f",
   "metadata": {},
   "outputs": [
    {
     "name": "stdout",
     "output_type": "stream",
     "text": [
      " 0th diagonal = [0 4 8]\n",
      " 1st diagonal = [1 5]\n",
      " -1th diagonal = [3 7]\n"
     ]
    }
   ],
   "source": [
    "print(f\" 0th diagonal = {np.diag(x)}\") # Main diagonal\n",
    "print(f\" 1st diagonal = {np.diag(x, k=1)}\") # Above diagonal\n",
    "print(f\" -1th diagonal = {np.diag(x, k=-1)}\") # below diagonal"
   ]
  },
  {
   "cell_type": "markdown",
   "id": "3fe1636a-6bd5-4f65-be33-7d559182b5b2",
   "metadata": {},
   "source": [
    "# How to load a CSV file"
   ]
  },
  {
   "cell_type": "code",
   "execution_count": 362,
   "id": "1eed0b3d-4291-4210-912d-3caba1238058",
   "metadata": {},
   "outputs": [
    {
     "data": {
      "text/plain": [
       "array([[1.5, 2.1, 5.4, 6.1],\n",
       "       [1.2, 3.1, 5.1, 5.1],\n",
       "       [1. , 5.1, 5.1, 3.2]])"
      ]
     },
     "execution_count": 362,
     "metadata": {},
     "output_type": "execute_result"
    }
   ],
   "source": [
    "# Load data from CSV file\n",
    "file_path = r\"C:\\Users\\oviem\\OneDrive\\Desktop\\CSV_FiLES\\Numbers.csv\"\n",
    "a = np.genfromtxt(file_path, delimiter=\",\")\n",
    "a"
   ]
  },
  {
   "cell_type": "markdown",
   "id": "516b4ee8-008e-48be-9bc8-43d73389d001",
   "metadata": {},
   "source": [
    "# Speed test with Python lists!"
   ]
  },
  {
   "cell_type": "code",
   "execution_count": 402,
   "id": "d798f465-4dd0-47b9-be04-a16c11f70365",
   "metadata": {},
   "outputs": [
    {
     "name": "stdout",
     "output_type": "stream",
     "text": [
      " Time to process Python list = 0.5627403259277344s\n",
      " Time to process numPy array = 0.04686093330383301s\n"
     ]
    }
   ],
   "source": [
    "# Import time\n",
    "import time\n",
    "\n",
    "a = [ i for i in range(1000000)] \n",
    "b = np.arange(1000000)\n",
    "\n",
    "start_time = time.time()\n",
    "for i in range(len(a)):\n",
    "    a[i] +=1\n",
    "end_time = time.time()\n",
    "print(f\" Time to process Python list = {end_time - start_time}s\") # Speed time with Python List.\n",
    "\n",
    "start_time = time.time()\n",
    "b = b + 1\n",
    "end_time = time.time()\n",
    "print(f\" Time to process numPy array = {end_time - start_time}s\") # Speed time with numPy array."
   ]
  },
  {
   "cell_type": "code",
   "execution_count": null,
   "id": "b8bfcf26-a7dd-425d-bcad-7f886e2cd72d",
   "metadata": {},
   "outputs": [],
   "source": []
  }
 ],
 "metadata": {
  "kernelspec": {
   "display_name": "Python [conda env:base] *",
   "language": "python",
   "name": "conda-base-py"
  },
  "language_info": {
   "codemirror_mode": {
    "name": "ipython",
    "version": 3
   },
   "file_extension": ".py",
   "mimetype": "text/x-python",
   "name": "python",
   "nbconvert_exporter": "python",
   "pygments_lexer": "ipython3",
   "version": "3.12.7"
  }
 },
 "nbformat": 4,
 "nbformat_minor": 5
}
